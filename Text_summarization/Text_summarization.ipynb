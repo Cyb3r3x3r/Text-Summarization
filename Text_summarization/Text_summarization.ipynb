{
 "cells": [
  {
   "cell_type": "code",
   "execution_count": 1,
   "id": "352ed81b-6183-4da5-9c18-1a6fb10bf3b4",
   "metadata": {},
   "outputs": [],
   "source": [
    "from datasets import load_dataset"
   ]
  },
  {
   "cell_type": "code",
   "execution_count": 2,
   "id": "784a791c-ffb3-4f75-a3ba-f2d073a272cc",
   "metadata": {},
   "outputs": [],
   "source": [
    "dataset = load_dataset(\"cnn_dailymail\",\"3.0.0\")"
   ]
  },
  {
   "cell_type": "code",
   "execution_count": 3,
   "id": "55136e1d-2a70-420d-baf4-6c8b3d2d2c37",
   "metadata": {},
   "outputs": [
    {
     "data": {
      "text/plain": [
       "Dataset({\n",
       "    features: ['article', 'highlights', 'id'],\n",
       "    num_rows: 287113\n",
       "})"
      ]
     },
     "execution_count": 3,
     "metadata": {},
     "output_type": "execute_result"
    }
   ],
   "source": [
    "dataset['train']"
   ]
  },
  {
   "cell_type": "code",
   "execution_count": 4,
   "id": "f7834dcb-9b51-497d-b048-549517ec5ade",
   "metadata": {},
   "outputs": [
    {
     "data": {
      "text/plain": [
       "\"BAGHDAD, Iraq (CNN) -- Dressed in a Superman shirt, 5-year-old Youssif held his sister's hand Friday, seemingly unaware that millions of people across the world have been touched by his story. Nearby,\""
      ]
     },
     "execution_count": 4,
     "metadata": {},
     "output_type": "execute_result"
    }
   ],
   "source": [
    "dataset['train'][5]['article'][:200]"
   ]
  },
  {
   "cell_type": "code",
   "execution_count": 5,
   "id": "ad9f6a16-4d5d-4d13-b511-ec92d1872ec0",
   "metadata": {},
   "outputs": [
    {
     "data": {
      "text/plain": [
       "'Parents beam with pride, can\\'t stop from smiling from outpouring of support .\\nMom: \"I was so happy I didn\\'t know what to do\"\\nBurn center in U.S. has offered to provide treatment for reconstructive surgeries .\\nDad says, \"Anything for Youssif\"'"
      ]
     },
     "execution_count": 5,
     "metadata": {},
     "output_type": "execute_result"
    }
   ],
   "source": [
    "dataset['train'][5]['highlights']"
   ]
  },
  {
   "cell_type": "code",
   "execution_count": 6,
   "id": "a313ec22-73a1-48de-a8a9-bcda5a61bd2f",
   "metadata": {},
   "outputs": [],
   "source": [
    "from transformers import pipeline"
   ]
  },
  {
   "cell_type": "code",
   "execution_count": 7,
   "id": "754c0938-f6e3-471b-81d5-717efc35f1e4",
   "metadata": {},
   "outputs": [
    {
     "name": "stdout",
     "output_type": "stream",
     "text": [
      "0\n"
     ]
    }
   ],
   "source": [
    "import torch\n",
    "device = 0 if torch.cuda.is_available() else -1\n",
    "print(device)"
   ]
  },
  {
   "cell_type": "code",
   "execution_count": 8,
   "id": "60c208ba-a420-4dfc-a0e9-38f44c6d5e21",
   "metadata": {},
   "outputs": [
    {
     "name": "stdout",
     "output_type": "stream",
     "text": [
      "WARNING:tensorflow:From C:\\Users\\Admin\\AppData\\Local\\Programs\\Python\\Python311\\Lib\\site-packages\\tf_keras\\src\\losses.py:2976: The name tf.losses.sparse_softmax_cross_entropy is deprecated. Please use tf.compat.v1.losses.sparse_softmax_cross_entropy instead.\n",
      "\n"
     ]
    }
   ],
   "source": [
    "#Creating the pipeline\n",
    "pipe = pipeline(\"text-generation\",model=\"gpt2-medium\",device=device)"
   ]
  },
  {
   "cell_type": "code",
   "execution_count": 9,
   "id": "40f234bf-6804-4fdf-bfea-54b0c677bfcb",
   "metadata": {},
   "outputs": [
    {
     "name": "stderr",
     "output_type": "stream",
     "text": [
      "Truncation was not explicitly activated but `max_length` is provided a specific value, please use `truncation=True` to explicitly truncate examples to max length. Defaulting to 'longest_first' truncation strategy. If you encode pairs of sequences (GLUE-style) with the tokenizer you can select this strategy more precisely by providing a specific strategy to `truncation`.\n",
      "Setting `pad_token_id` to `eos_token_id`:None for open-end generation.\n"
     ]
    }
   ],
   "source": [
    "#Preparing the data and inserting into pip\n",
    "dataset['train'][5]['article'][:2500]\n",
    "input_text = dataset['train'][5]['article'][:2500]\n",
    "query = input_text + \"\\nTL;DR:\\n\"\n",
    "pipe_out = pipe(query,max_length=1024,clean_up_tokenization_spaces=True)"
   ]
  },
  {
   "cell_type": "code",
   "execution_count": 10,
   "id": "0f6efc59-c8dd-47b0-b590-b79978358bdc",
   "metadata": {},
   "outputs": [],
   "source": [
    "summary = pipe_out[0]['generated_text'][len(query):]"
   ]
  },
  {
   "cell_type": "code",
   "execution_count": 11,
   "id": "4ae70ab5-d278-430a-a013-9ce2f3bfb1d7",
   "metadata": {},
   "outputs": [
    {
     "name": "stdout",
     "output_type": "stream",
     "text": [
      "Summary :The Youssif family has been receiving hundreds of thousands in donations to help. It's hard to explain how important this whole thing really is. I don't know how I feel about the Youssif's story, but I'm glad people across the nation -- even the one world I live in -- are stepping by their help, and sharing it. You can tell people have been touched, in terms of how people are helping donate their money.  I wish more people felt the same way, and that even people who'd never heard of this story wouldn't feel ashamed about giving money -- even in the U.S.\n"
     ]
    }
   ],
   "source": [
    "all_summary ={}\n",
    "all_summary['gpt2-medium'] = summary\n",
    "print(f\"Summary :{summary}\")"
   ]
  },
  {
   "cell_type": "code",
   "execution_count": 12,
   "id": "a99f2138-19cd-4932-9df7-22dfd057e8c3",
   "metadata": {},
   "outputs": [
    {
     "name": "stderr",
     "output_type": "stream",
     "text": [
      "Some weights of PegasusForConditionalGeneration were not initialized from the model checkpoint at google/pegasus-cnn_dailymail and are newly initialized: ['model.decoder.embed_positions.weight', 'model.encoder.embed_positions.weight']\n",
      "You should probably TRAIN this model on a down-stream task to be able to use it for predictions and inference.\n"
     ]
    }
   ],
   "source": [
    "#Trying out the google pegasus model\n",
    "pipe = pipeline('summarization',device=device,model='google/pegasus-cnn_dailymail')"
   ]
  },
  {
   "cell_type": "code",
   "execution_count": 13,
   "id": "04334011-5190-4930-ae35-ab933a1d4355",
   "metadata": {},
   "outputs": [],
   "source": [
    "result = pipe(input_text)"
   ]
  },
  {
   "cell_type": "code",
   "execution_count": 14,
   "id": "b90d37db-2496-4345-8610-05cd6ba9c15c",
   "metadata": {},
   "outputs": [],
   "source": [
    "all_summary['pegasus_cnn'] = result[0]['summary_text']"
   ]
  },
  {
   "cell_type": "code",
   "execution_count": 15,
   "id": "e4dae3dd-3f5b-4631-b00b-d8bb796c5096",
   "metadata": {},
   "outputs": [
    {
     "name": "stdout",
     "output_type": "stream",
     "text": [
      "GPT2-MEDIUM\n",
      "The Youssif family has been receiving hundreds of thousands in donations to help. It's hard to explain how important this whole thing really is. I don't know how I feel about the Youssif's story, but I'm glad people across the nation -- even the one world I live in -- are stepping by their help, and sharing it. You can tell people have been touched, in terms of how people are helping donate their money.  I wish more people felt the same way, and that even people who'd never heard of this story wouldn't feel ashamed about giving money -- even in the U.S.\n",
      "\n",
      "PEGASUS_CNN\n",
      "Youssif's mother: \"I was so happy I didn't know what to do with myself\"<n>Boy's father: \"We just want to thank everyone who has come forward\"<n>Youssif will undergo surgery in the United States .<n>You can make a donation at the Children's Burn Foundation's site .\n",
      "\n"
     ]
    }
   ],
   "source": [
    "for model in all_summary:\n",
    "    print(model.upper())\n",
    "    print(all_summary[model])\n",
    "    print(\"\")"
   ]
  },
  {
   "cell_type": "code",
   "execution_count": 16,
   "id": "ccef3000-b304-4089-9607-78e80e9e002f",
   "metadata": {},
   "outputs": [],
   "source": [
    "#Trying with custom text\n",
    "input_text = \"Neelam Shinde, who hails from Maharashtra's Satara district, was critically injured in the accident on February 14 and has been in a coma at a hospital since then. Neelam Shinde has reportedly suffered severe injuries to her head, hand, and chest. Her family has sought an urgent visa to travel to the US to be by her side.The MEA has taken up the matter with the US.The US side is looking into the formalities for early grant of visa for the applicant's family,the sources cited in the PTI report said.Nationalist Congress Party (Sharadchandra Pawar) leader Supriya Sule flagged the case on Wednesday.Student Neelam Shinde has met with an accident in the USA and is hospitalised in a local hospital, she said in a post on X.\""
   ]
  },
  {
   "cell_type": "code",
   "execution_count": 17,
   "id": "e01f7544-d8cf-452e-a774-ad669cd4878d",
   "metadata": {},
   "outputs": [
    {
     "name": "stdout",
     "output_type": "stream",
     "text": [
      "Summary with pegasus_cnn: Neelam Shinde has reportedly suffered severe injuries to her head, hand, and chest .<n>Her family has sought an urgent visa to travel to the US to be by her side .<n>The US side is looking into the formalities for early grant of visa for the applicant's family .\n"
     ]
    }
   ],
   "source": [
    "result = pipe(input_text)\n",
    "print(f\"Summary with pegasus_cnn: {result[0]['summary_text']}\")"
   ]
  },
  {
   "cell_type": "code",
   "execution_count": null,
   "id": "71e4ea09-5b6e-4a57-a75b-ce8e4fe7aaa3",
   "metadata": {},
   "outputs": [],
   "source": []
  }
 ],
 "metadata": {
  "kernelspec": {
   "display_name": "Python 3 (ipykernel)",
   "language": "python",
   "name": "python3"
  },
  "language_info": {
   "codemirror_mode": {
    "name": "ipython",
    "version": 3
   },
   "file_extension": ".py",
   "mimetype": "text/x-python",
   "name": "python",
   "nbconvert_exporter": "python",
   "pygments_lexer": "ipython3",
   "version": "3.11.0"
  }
 },
 "nbformat": 4,
 "nbformat_minor": 5
}
